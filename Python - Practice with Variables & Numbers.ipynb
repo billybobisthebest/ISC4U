{
 "cells": [
  {
   "cell_type": "markdown",
   "metadata": {},
   "source": [
    "# Python - Practice with Variables & Numbers\n",
    "- Bilal Rashid\n",
    "- Mr.Roberts\n",
    "- ICS4U\n",
    "- April 29th,20\n",
    "\n",
    "In the assignment our goal was to creat some projects only using the print statement and only using the input function.\n"
   ]
  },
  {
   "cell_type": "markdown",
   "metadata": {},
   "source": [
    "## Question 1\n",
    "Write a program that outputs \"Your name \" and then displays the person’s first\n",
    "name."
   ]
  },
  {
   "cell_type": "code",
   "execution_count": null,
   "metadata": {},
   "outputs": [],
   "source": [
    "name = input(\"Please enter your name : \") #Enter something like Bilal Rashid\n",
    "print(\"\\n\")\n",
    "print(\"Your name is\", name, \"!\")"
   ]
  },
  {
   "cell_type": "markdown",
   "metadata": {},
   "source": [
    "## Question 2 \n",
    "Write a program that asks three questions about your reservation at Drake’s new\n",
    "restaurant “Pick 6ix”: reservation day, reservation time, how many in your group.\n",
    "Create a user-friendly output confirming the details."
   ]
  },
  {
   "cell_type": "code",
   "execution_count": null,
   "metadata": {},
   "outputs": [],
   "source": [
    "question_1= input(\"Please enter the date and day at which time you'll be coming to Pick 6ix? \") # Enter something like October 26th, 2016\n",
    "print(\"\\n\")\n",
    "question_2=input(\"Please enter what time you will be making a reservation for? \") # Enter something like 4:00 PM\n",
    "print(\"\\n\")\n",
    "question_3= input(\"Please enter the number of people that will be with you? \") #Enter something like 6 must be a integer only\n",
    "print(\"\\n\")\n",
    "print(\"Your reservation has been made for\", question_1, \"at\", question_2, \"and it has been made for\", question_3, \"people! Please don't forget your masks you will also be screened for COVID-19 before entering Pick 6ix. We hope to see you soon!\")\n"
   ]
  },
  {
   "cell_type": "markdown",
   "metadata": {},
   "source": [
    "## Question 3\n",
    "Write a program that shows someone's age in the year 2060. Display output in a\n",
    "user-friendly manner."
   ]
  },
  {
   "cell_type": "code",
   "execution_count": null,
   "metadata": {},
   "outputs": [],
   "source": [
    "age_in_2021 = input(\"Please enter your age as of 2021? \") # Enter something like 10 or just your age\n",
    "print(\"\\n\")\n",
    "print(\"Since we know the difference between 2021 and 2060 (2060-2021) is 39 years we could just add the number to your current age as of 2021!\")\n",
    "print(\"\\n\")\n",
    "age_in_2060 = int(age_in_2021) +39\n",
    "print(\"Your age in 2060 would be \", age_in_2060, \"!\")"
   ]
  },
  {
   "cell_type": "markdown",
   "metadata": {},
   "source": [
    "## Question 4 -  A\n",
    "Write a program that reads an integer then outputs the following:\n",
    "__ multiplied by 4 is __ ."
   ]
  },
  {
   "cell_type": "code",
   "execution_count": null,
   "metadata": {},
   "outputs": [],
   "source": [
    "multiplication = input(\"Please input a number that you would like to be multiplied by 4: \") #Enter something like 9\n",
    "print(\"\\n\")\n",
    "multiplied_by_4 = int(multiplication)*4\n",
    "print(\"When\", multiplication, \"is multiplied by 4, the result is\", multiplied_by_4, \"!\")"
   ]
  },
  {
   "cell_type": "markdown",
   "metadata": {},
   "source": [
    "## Question 4 -  B\n",
    "Write a program that reads an integer then outputs the following:\n",
    "__ to the exponent 4 is _ .\n"
   ]
  },
  {
   "cell_type": "code",
   "execution_count": null,
   "metadata": {},
   "outputs": [],
   "source": [
    "exponent = input(\"Please input a number that you would like rasied to the power of 4: \") #Enter something like 6\n",
    "print(\"\\n\")\n",
    "exponent_rasied_to_the_power_4 = int(exponent)**4\n",
    "print(\"When\", exponent, \"is rasied to the power of 4, the result is\", exponent_rasied_to_the_power_4, \"!\")"
   ]
  },
  {
   "cell_type": "markdown",
   "metadata": {},
   "source": [
    "## Question 4 -  C\n",
    "Write a program that reads an integer then outputs the following:\n",
    "__ divided by 4 is __ ."
   ]
  },
  {
   "cell_type": "code",
   "execution_count": null,
   "metadata": {},
   "outputs": [],
   "source": [
    "divide = input(\"Please input a number that you would like to divide by 4: \") #Enter something like 10\n",
    "print(\"\\n\")\n",
    "number_divided_by_4 = int(divide)/4\n",
    "print(\"When\", divide, \"is divide by 4, the result is\", number_divided_by_4, \"!\")"
   ]
  },
  {
   "cell_type": "markdown",
   "metadata": {},
   "source": [
    "## Question 4 - D\n",
    "Write a program that reads an integer then outputs the following:\n",
    "The remainder of ___ when divided by 4 is _ ."
   ]
  },
  {
   "cell_type": "code",
   "execution_count": null,
   "metadata": {},
   "outputs": [],
   "source": [
    "remainder = input(\"Please input a number that you would like to get the remainder of when done by 4: \") #Enter something like 19\n",
    "print(\"\\n\")\n",
    "remainder_by_4 = int(remainder)%4\n",
    "print(\"When\", remainder, \"is remainder of 4, then the result is\", remainder_by_4, \"!\")"
   ]
  },
  {
   "cell_type": "markdown",
   "metadata": {},
   "source": [
    "## Question 5\n",
    "Write a program that asks the user to enter an amount of Canadian dollars and then\n",
    "displays the American equivalent. Use a constant for the conversion."
   ]
  },
  {
   "cell_type": "code",
   "execution_count": null,
   "metadata": {},
   "outputs": [],
   "source": [
    "canadian_dollars = input(\"Please enter the amount of Canadian dollars you would like to convert to American dollars: \") #Enter the amount you would like to exchange \n",
    "print(\"\\n\")\n",
    "print(\"As of 28-04-2021 1 Canadian dollars is equal to 0.81 American dollars. We can use this information to convert between Canadian dollars to American dollars.\")\n",
    "american_dollar_rate = 0.81\n",
    "conversion_rate = int(canadian_dollars)*american_dollar_rate\n",
    "print(\"\\n\")\n",
    "print(\"If you convert $\",canadian_dollars,\"Canadian dollars for American dollars you would get $\",int(conversion_rate),\"American dollars!\")"
   ]
  },
  {
   "cell_type": "markdown",
   "metadata": {},
   "source": [
    "## Question 6\n",
    " Write a program that asks for a number of loonies and prints the equivalent number\n",
    "in dimes and the equivalent number in nickels. Output should be similar to\n",
    "“3 loonies is/are equivalent to 30 dimes and 60 nickels”"
   ]
  },
  {
   "cell_type": "code",
   "execution_count": null,
   "metadata": {},
   "outputs": [],
   "source": [
    "amount_of_loonies = input(\"Enter the amount of loonies that you would like to convert to nickels and dimes: \") #Enter a float value, e.g: 1.00\n",
    "loonies_to_nickels = float(amount_of_loonies)/0.05\n",
    "loonies_to_dimes = float(amount_of_loonies)/ 0.10\n",
    "print(\"\\n\")\n",
    "print(\"Converting\",amount_of_loonies, \"loonies to nickels and dimes would result in\", loonies_to_nickels,\"nickels and\", loonies_to_dimes, \"dimes!\")"
   ]
  }
 ],
 "metadata": {
  "kernelspec": {
   "display_name": "Python 3",
   "language": "python",
   "name": "python3"
  },
  "language_info": {
   "codemirror_mode": {
    "name": "ipython",
    "version": 3
   },
   "file_extension": ".py",
   "mimetype": "text/x-python",
   "name": "python",
   "nbconvert_exporter": "python",
   "pygments_lexer": "ipython3",
   "version": "3.8.5"
  }
 },
 "nbformat": 4,
 "nbformat_minor": 4
}
