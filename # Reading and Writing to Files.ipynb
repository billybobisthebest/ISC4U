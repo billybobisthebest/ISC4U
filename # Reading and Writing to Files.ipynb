{
 "cells": [
  {
   "cell_type": "markdown",
   "metadata": {},
   "source": [
    "# Reading and Writing to Files\n",
    "- Bilal Rashid\n",
    "- Mr.Roberts\n",
    "- ICS4U\n",
    "- May 18th,2021"
   ]
  },
  {
   "cell_type": "markdown",
   "metadata": {},
   "source": [
    "## Question 1\n",
    "Create a program that opens a file that you have created. This file will contain some large\n",
    "piece of data (e.g. in my example I used the value of pi). Your program will open and\n",
    "display the contents of the file. Your data file (the .txt file) will be stored in a subfolder."
   ]
  },
  {
   "cell_type": "code",
   "execution_count": 1,
   "metadata": {},
   "outputs": [
    {
     "name": "stdout",
     "output_type": "stream",
     "text": [
      "Hi my name Bilal Rashid!\n",
      "I go to Silverthorn. This semester I have Computer Science and Visual Arts.\n"
     ]
    }
   ],
   "source": [
    "with open (\"abitaboutbilal.txt\") as bilals_file:\n",
    "    contents_of_bilals_file = bilals_file.read()\n",
    "    print(contents_of_bilals_file)"
   ]
  },
  {
   "cell_type": "markdown",
   "metadata": {},
   "source": [
    "## Question 2\n",
    "Create a program that prompts the user for names four of your favorite zoo animals. The\n",
    "inputted data will be saved to a file. Your program will then display the contents of your\n",
    "program"
   ]
  },
  {
   "cell_type": "code",
   "execution_count": 3,
   "metadata": {},
   "outputs": [
    {
     "name": "stdout",
     "output_type": "stream",
     "text": [
      "Please enter you favourite Zoo animals: Birds\n",
      "Please enter you favourite Zoo animals: Monkey\n",
      "Please enter you favourite Zoo animals: Bears\n",
      "Please enter you favourite Zoo animals: Tiger\n",
      "Lion\n",
      "Horse\n",
      "Cow\n",
      "Goat\n",
      "Birds\n",
      "Monkey\n",
      "Bears\n",
      "Tiger\n",
      "\n"
     ]
    }
   ],
   "source": [
    "# Creating the file\n",
    "filename2 = \"mostlikedzooanimals.txt\"\n",
    "with open(filename2,\"a+\") as bilals_file:\n",
    "    for rashid in range(0,4):\n",
    "        what_are_your_favourite_zoo_animals = input(\"Please enter your favourite Zoo animals: \")\n",
    "        bilals_file.write(what_are_your_favourite_zoo_animals)\n",
    "        bilals_file.write(\"\\n\")\n",
    "print(\"\\n\")\n",
    "# Displaying contents\n",
    "with open(\"mostlikedzooanimals.txt\") as bilals_file:\n",
    "    contents_of_bilals_file = bilals_file.read()\n",
    "    print(contents_of_bilals_file)\n"
   ]
  },
  {
   "cell_type": "markdown",
   "metadata": {},
   "source": [
    "## Question 3\n",
    "Create a program that will prompt the user to enter a series of numbers. The inputted data\n",
    "will be saved to a file. The program will then display the contents of your program. Include\n",
    "a space or separate line per entry"
   ]
  },
  {
   "cell_type": "code",
   "execution_count": 6,
   "metadata": {},
   "outputs": [
    {
     "name": "stdout",
     "output_type": "stream",
     "text": [
      "Please enter your series of numbers: 6\n",
      "Please enter your series of numbers: 6\n",
      "Please enter your series of numbers: 6\n",
      "Please enter your series of numbers: 6\n",
      "Please enter your series of numbers: 6\n",
      "\n",
      "\n",
      "6\n",
      "7\n",
      "6\n",
      "6\n",
      "7\n",
      "6\n",
      "6\n",
      "6\n",
      "6\n",
      "6\n",
      "6\n",
      "6\n",
      "6\n",
      "6\n",
      "6\n",
      "\n"
     ]
    }
   ],
   "source": [
    "# Creating the file\n",
    "filename3 = \"seriesofnumbers.txt\"\n",
    "with open(filename3,\"a+\") as bilals_file:\n",
    "    for rashid in range(0,5):\n",
    "        enter_the_series_of_numbers = input(\"Please enter your series of numbers: \")\n",
    "        bilals_file.write(str(enter_the_series_of_numbers))\n",
    "        bilals_file.write(\"\\n\")\n",
    "print(\"\\n\")\n",
    "# Displaying contents\n",
    "with open(\"seriesofnumbers.txt\") as bilals_file:\n",
    "    contents_of_bilals_file = bilals_file.read()\n",
    "    print(contents_of_bilals_file)"
   ]
  },
  {
   "cell_type": "markdown",
   "metadata": {},
   "source": [
    "## Question 4\n",
    "Create a program that will prompt the user to enter the name of their favorite TV program.\n",
    "The responses will be saved to a file. The program will end when the user types a key word\n",
    "(e.g. done, finished, quit)"
   ]
  },
  {
   "cell_type": "code",
   "execution_count": 1,
   "metadata": {},
   "outputs": [
    {
     "name": "stdout",
     "output_type": "stream",
     "text": [
      "Please enter your favourite shows, once entered and if you would like to quit enter 'done' or 'quit': Friends\n",
      "Please enter your favourite shows, once entered and if you would like to quit enter 'done' or 'quit': Stranger Things\n",
      "Please enter your favourite shows, once entered and if you would like to quit enter 'done' or 'quit': Quit\n"
     ]
    }
   ],
   "source": [
    "filename4 = \"tvshows.txt\"\n",
    "with open(filename4, \"a+\") as my_tv_shows:\n",
    "    while True:\n",
    "        shows = input(\"Please enter your favourite shows, once entered and if you would like to quit enter 'done' or 'quit': \")\n",
    "        my_tv_shows.write(shows)\n",
    "        my_tv_shows.write(\"\\n\")\n",
    "        if shows == \"done\" or shows == \"Done\" or shows == \"quit\" or shows == \"Quit\":\n",
    "            break\n",
    "    "
   ]
  }
 ],
 "metadata": {
  "kernelspec": {
   "display_name": "Python 3",
   "language": "python",
   "name": "python3"
  },
  "language_info": {
   "codemirror_mode": {
    "name": "ipython",
    "version": 3
   },
   "file_extension": ".py",
   "mimetype": "text/x-python",
   "name": "python",
   "nbconvert_exporter": "python",
   "pygments_lexer": "ipython3",
   "version": "3.8.5"
  }
 },
 "nbformat": 4,
 "nbformat_minor": 4
}
