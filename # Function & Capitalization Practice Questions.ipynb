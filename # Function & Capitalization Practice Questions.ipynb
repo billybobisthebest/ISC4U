{
 "cells": [
  {
   "cell_type": "markdown",
   "metadata": {},
   "source": [
    "# Function & Capitalization Practice Questions\n",
    "- Bilal Rashid\n",
    "- Mr.Roberts\n",
    "- ICS4U\n",
    "- April 30th,2021\n",
    "In the assignment our goal was to creat some projects only using the print statement and only using the input function."
   ]
  },
  {
   "cell_type": "markdown",
   "metadata": {},
   "source": [
    "## Question 1\n",
    "Create a simple function that will calculate the volume of a sphere. Inculde pi as a constant. Use the parameter of 7. Round answers to 2 decimal places."
   ]
  },
  {
   "cell_type": "code",
   "execution_count": null,
   "metadata": {},
   "outputs": [],
   "source": [
    "import math\n",
    "def volume_of_sphere(a,b = 4/3,c = math.pi,):\n",
    "    math_for_spehre = b*c*a**3\n",
    "    return math_for_spehre\n",
    "calculation_1= round(volume_of_sphere(7),2)\n",
    "print(calculation_1)\n"
   ]
  },
  {
   "cell_type": "markdown",
   "metadata": {},
   "source": [
    "- First I import math which makes it easier for us to do mathematical operations. The main reason I did this was so I could get  π and wouldn't have to type the number instead. \n",
    "- Next, I defined and function and named it 'volume_of_sphere' and I set the function to have two default arguments. The default argument are 'b' which is equal to '(4/3)' and 'c = math.pi' which imports the number pi (3..14159....) and I also have a non-default-parameter which is 'a'.\n",
    "- After creating the header of the function we move on to the body and in the body, we create a new variable named 'math_for_spehre' and assign it to the formula for calculating the volume of the sphere. The formula, in this case, is [(4/3)(pi)(r**3)] or click this link to go to the formula https://www.mathsisfun.com/geometry/sphere-volume-area.html\n",
    "- Next we use the return statement to tell our function to end and what we also tell it to calculate 'math_for_spehre'\n",
    "- Lastly outside the function, we create a new variable called 'calculation_1' and assign it to the function and to call the function we only need to call the non-default-parameter/ argument in this case it was only 'a' which was our radius. We also use the round ( varabile_name, places_too_round_to)' function and we finally print calculation_1 to print the volume of a sphere."
   ]
  },
  {
   "cell_type": "markdown",
   "metadata": {},
   "source": [
    "## Question 2\n",
    "Create a function that will convert from Fahrenheit to Celsius. The value to be converted is\n",
    "user inputted and the final answer is rounded to 2 decimal places. The display statement\n",
    "should include the initial value and the converted value in a user-friendly sentence."
   ]
  },
  {
   "cell_type": "code",
   "execution_count": null,
   "metadata": {},
   "outputs": [],
   "source": [
    "import time\n",
    "def fahrenheit_to_celsius(a = input(\"Please enter the amout of much Fahrenheit you would like to convert to Celsius: \"), b = 32, c = 1.8):\n",
    "    area = (int(a)-b)/c\n",
    "    print(\"\\n\")\n",
    "    print(\"Loading..........Calculating!\")\n",
    "    time.sleep(2)\n",
    "    print(\"\\n\")\n",
    "    print(\"You wanted us to convert\",a,\"Fahrenheit to Ceslius and when we converted it we got\",round(area,2),\"Celsius!\")\n",
    "fahrenheit_to_celsius()\n",
    "\n"
   ]
  },
  {
   "cell_type": "markdown",
   "metadata": {},
   "source": [
    "- First, we import time so we can add delay in our code. \n",
    "- Next, we define a function and name it 'fahrenheit_to_celsius' and set it to have three parameters. All three parameters are default parameters, meaning that they have a default argument!\n",
    "- You see that we use 'print('\\n')' this print statement adds a space between lines.\n",
    "- Finally, we do a print statement to print out a user's friendly sentence and then call the function to run the function!"
   ]
  },
  {
   "cell_type": "markdown",
   "metadata": {},
   "source": [
    "## Question 3\n",
    " Create program what will ask for 3 pieces of information:\n",
    "- first and last name\n",
    "- postal code\n",
    "- the two letter province abbreviation\n",
    "The program will capitalize the first and last name, and display the postal code in all caps"
   ]
  },
  {
   "cell_type": "code",
   "execution_count": null,
   "metadata": {},
   "outputs": [],
   "source": [
    "def your_information(a = input(\"Please enter your first and last name: \") , b = input(\"Please enter your postal code: \"), c = input(\"Please enter your two letter province abbreviation: \")):\n",
    "    print(\"Your name is\", a.title(), \". Your postal code is\", b.upper(), \"and the province you live in is\", c.upper())\n",
    "your_information()"
   ]
  },
  {
   "cell_type": "markdown",
   "metadata": {},
   "source": [
    "- First, define a function named your_information and have three default arguments to it.\n",
    "- Then use a print statement to create a user friendly print statements and then just print the function."
   ]
  },
  {
   "cell_type": "markdown",
   "metadata": {},
   "source": [
    "## For ISC4U Class only Question 4\n",
    "Create a function where every number after the first two is the sum of the three preceding ones.\n",
    "Let’s call this function the Robertsonacci (refer to the handout in class with the Fibonacci code)."
   ]
  },
  {
   "cell_type": "code",
   "execution_count": null,
   "metadata": {},
   "outputs": [],
   "source": [
    "def bilal_sqeuence(n):\n",
    "    a, b,c = 0, 1,1\n",
    "    while a < n:\n",
    "        print(a,\"\\n\")\n",
    "        a,b,c = b,c , a+b+c\n",
    "        print()\n",
    "bilal_sqeuence(2000)"
   ]
  }
 ],
 "metadata": {
  "kernelspec": {
   "display_name": "Python 3",
   "language": "python",
   "name": "python3"
  },
  "language_info": {
   "codemirror_mode": {
    "name": "ipython",
    "version": 3
   },
   "file_extension": ".py",
   "mimetype": "text/x-python",
   "name": "python",
   "nbconvert_exporter": "python",
   "pygments_lexer": "ipython3",
   "version": "3.8.5"
  }
 },
 "nbformat": 4,
 "nbformat_minor": 4
}
