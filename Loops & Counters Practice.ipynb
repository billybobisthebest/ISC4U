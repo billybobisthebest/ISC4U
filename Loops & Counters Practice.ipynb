{
 "cells": [
  {
   "cell_type": "markdown",
   "metadata": {},
   "source": [
    "# Loops & Counters Practice\n",
    "- Bilal Rashid\n",
    "- Mr.Roberts\n",
    "- ICS4U\n",
    "- May 11th ,2021\n",
    "\n",
    "Our goal in this assignment was to work with loops and counters!"
   ]
  },
  {
   "cell_type": "markdown",
   "metadata": {},
   "source": [
    "## Question 1\n",
    "Create a program that will display all the characters. Use the chr(i) function."
   ]
  },
  {
   "cell_type": "code",
   "execution_count": null,
   "metadata": {},
   "outputs": [],
   "source": [
    "bilal = 1\n",
    "for bilal in range(256):\n",
    "    print (chr(bilal))\n",
    "    bilal=bilal+1\n",
    "\n",
    "\n",
    "print(chr(bilal))"
   ]
  },
  {
   "cell_type": "markdown",
   "metadata": {},
   "source": [
    "## Question 2\n",
    "While function - Create a program that will prompt the user how many numbers it would\n",
    "like to add. Your program will calculate the total and display the sum. "
   ]
  },
  {
   "cell_type": "code",
   "execution_count": null,
   "metadata": {},
   "outputs": [],
   "source": [
    "question=int(input('How many numbers would you like to add? '))\n",
    "total=0\n",
    "bilal=1\n",
    "while bilal<=question:\n",
    "    s=input('Please enter a number '+str(bilal)+':')\n",
    "    total=total+int(s)\n",
    "    bilal=bilal+1\n",
    "print('The sum is', total, \"!\")"
   ]
  },
  {
   "cell_type": "markdown",
   "metadata": {},
   "source": [
    "## Question 3\n",
    "For function - Create a program that will prompt the user how many numbers it would like\n",
    "to add. Your program will calculate the total and display the sum. "
   ]
  },
  {
   "cell_type": "code",
   "execution_count": null,
   "metadata": {},
   "outputs": [],
   "source": [
    "question=int(input('How many numbers would you like to add? '))\n",
    "total=0\n",
    "for bilal in range(question):\n",
    "    s=input('Please enter a number '+str(bilal+1)+':')\n",
    "    total=total+int(s)\n",
    "print('The sum is', total, \"\")"
   ]
  }
 ],
 "metadata": {
  "kernelspec": {
   "display_name": "Python 3",
   "language": "python",
   "name": "python3"
  },
  "language_info": {
   "codemirror_mode": {
    "name": "ipython",
    "version": 3
   },
   "file_extension": ".py",
   "mimetype": "text/x-python",
   "name": "python",
   "nbconvert_exporter": "python",
   "pygments_lexer": "ipython3",
   "version": "3.8.5"
  }
 },
 "nbformat": 4,
 "nbformat_minor": 4
}
