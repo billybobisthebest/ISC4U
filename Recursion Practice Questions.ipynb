{
 "cells": [
  {
   "cell_type": "markdown",
   "metadata": {},
   "source": [
    "# Recursion Practice Questions \n",
    "- Bilal Rashid\n",
    "- Mr.Roberts\n",
    "- ICS4U\n",
    "- June 2nd,2021\n",
    "\n"
   ]
  },
  {
   "cell_type": "markdown",
   "metadata": {},
   "source": [
    "### Question 1: \n",
    "Create a program, using a loop, which will compute 1/2 + 2/3 + 3/4 + ... + 99/100?"
   ]
  },
  {
   "cell_type": "code",
   "execution_count": 6,
   "metadata": {},
   "outputs": [
    {
     "name": "stdout",
     "output_type": "stream",
     "text": [
      "The sum of all the number is 99987.90985387105\n"
     ]
    }
   ],
   "source": [
    "number = 0\n",
    "for rashid in range(1, 100):\n",
    "    number = number + rashid / (rashid + 1)\n",
    "print(\"The sum of all the number is \"+ str(number))"
   ]
  },
  {
   "cell_type": "markdown",
   "metadata": {},
   "source": [
    "### Question 2"
   ]
  },
  {
   "cell_type": "code",
   "execution_count": 6,
   "metadata": {},
   "outputs": [
    {
     "name": "stdout",
     "output_type": "stream",
     "text": [
      "7.071031746031746\n"
     ]
    }
   ],
   "source": [
    "def sum_of_numbers(i):\n",
    "    if i == 0:\n",
    "        return 0\n",
    "    else:\n",
    "        return (i/(i+1)) + sum_of_numbers(i-1)\n",
    "print(sum_of_numbers(9))"
   ]
  },
  {
   "cell_type": "markdown",
   "metadata": {},
   "source": [
    "### Question 3: \n",
    "Create a New Years Eve program were your program counts down from 20 seconds to 1\n",
    "second. It displays the seconds as they decrease and displays the message “Happy New\n",
    "Years”. Use a recursive function not a loop."
   ]
  },
  {
   "cell_type": "code",
   "execution_count": 25,
   "metadata": {},
   "outputs": [
    {
     "name": "stdout",
     "output_type": "stream",
     "text": [
      "5\n",
      "4\n",
      "3\n",
      "2\n",
      "1\n",
      "Happy New Year!!!!\n"
     ]
    }
   ],
   "source": [
    "import time as bilal\n",
    "def countdown_function(time):\n",
    "    if time <=0:\n",
    "        print(\"Happy New Year!!!!\")\n",
    "    else:\n",
    "        print(time)\n",
    "        countdown_function(time-1)\n",
    "        bilal.sleep(.3)\n",
    "countdown_function(5)"
   ]
  },
  {
   "cell_type": "markdown",
   "metadata": {},
   "source": [
    "### Question 4"
   ]
  },
  {
   "cell_type": "code",
   "execution_count": 3,
   "metadata": {},
   "outputs": [
    {
     "data": {
      "text/plain": [
       "2"
      ]
     },
     "execution_count": 3,
     "metadata": {},
     "output_type": "execute_result"
    }
   ],
   "source": [
    "def fibonacci_seq(i):\n",
    "    if i < 0:\n",
    "        print(\"Please enter a postive intger!\")\n",
    "    elif i==1:\n",
    "        return 0\n",
    "    elif i==2:\n",
    "        return 1\n",
    "    else:\n",
    "        return fibonacci_seq(i-1) + fibonacci_seq(i-2)\n",
    "fibonacci_seq(4)\n"
   ]
  }
 ],
 "metadata": {
  "kernelspec": {
   "display_name": "Python 3",
   "language": "python",
   "name": "python3"
  },
  "language_info": {
   "codemirror_mode": {
    "name": "ipython",
    "version": 3
   },
   "file_extension": ".py",
   "mimetype": "text/x-python",
   "name": "python",
   "nbconvert_exporter": "python",
   "pygments_lexer": "ipython3",
   "version": "3.8.5"
  }
 },
 "nbformat": 4,
 "nbformat_minor": 4
}
